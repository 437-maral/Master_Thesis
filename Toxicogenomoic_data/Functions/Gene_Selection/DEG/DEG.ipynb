{
 "cells": [
  {
   "cell_type": "markdown",
   "metadata": {},
   "source": [
    "The goal of this script is to identify DEG based on FC and P_Value , it is dicussed to try with P-value and adjusted pvalue"
   ]
  },
  {
   "cell_type": "code",
   "execution_count": 1,
   "metadata": {},
   "outputs": [],
   "source": [
    "import pandas as pd\n",
    "import numpy as np\n",
    "from statsmodels.stats.multitest import multipletests\n"
   ]
  },
  {
   "cell_type": "code",
   "execution_count": null,
   "metadata": {},
   "outputs": [],
   "source": [
    "def calculate_adj_pvalues(data):\n",
    "    column_pvalues_stored = []\n",
    "    Filtered_data = data.copy()\n",
    "\n",
    "    for column in data.columns:\n",
    "        parts = column.split()\n",
    "        if len(parts) > 3 and parts[3] == 'hr(p)':\n",
    "            column_pvalues_stored.append(column)\n",
    "    \n",
    "\n",
    "    if column_pvalues_stored:\n",
    "        qvalues = data[column_pvalues_stored].apply(lambda col: multipletests(col, method='fdr_bh')[1])\n",
    "        Filtered_data[column_pvalues_stored] = qvalues\n",
    "\n",
    "    return Filtered_data"
   ]
  },
  {
   "cell_type": "code",
   "execution_count": 10,
   "metadata": {},
   "outputs": [],
   "source": [
    "def selection_by_logFC(full_data,log_value):\n",
    "    '''The aim of this function is to extract upregulated and downregulated genes'''\n",
    "    log_columns=[]\n",
    "    for column in full_data.columns[2:]:\n",
    "        parts= column.split()\n",
    "        if parts[3] != 'hr(p)':\n",
    "            log_columns.append(column)\n",
    "            #extract genes based on upregaulted or downregulated\n",
    "            filtered_by_logFC = full_data.loc[\n",
    "                (full_data[log_columns].abs() > log_value).any(axis=1)\n",
    "            ]\n",
    "            \n",
    "    return filtered_by_logFC\n",
    "    "
   ]
  },
  {
   "cell_type": "code",
   "execution_count": 11,
   "metadata": {},
   "outputs": [],
   "source": [
    "def selection_by_Pvalue(log_data,P_value):\n",
    "    '''The aim of this function is to extract significant genes'''\n",
    "    pvalue_columns=[]\n",
    "    for column in log_data.columns[2:]:\n",
    "        parts = column.split()\n",
    "        #P-value column \n",
    "        if parts[3] == 'hr(p)':\n",
    "            pvalue_columns.append(column)\n",
    "            #extract genes based on upregaulted or downregulated\n",
    "            filtered_by_Pvalue = log_data.loc[\n",
    "                (log_data[pvalue_columns] < P_value).any(axis=1)\n",
    "            ]\n",
    "            \n",
    "    return filtered_by_Pvalue\n",
    "    "
   ]
  },
  {
   "cell_type": "code",
   "execution_count": 12,
   "metadata": {},
   "outputs": [],
   "source": [
    "\n",
    "def selection_by_Adjusted_P_value(log_data_adj, pvalue_adj=0.05):\n",
    "    '''The aim of this function is to extract significant genes based on adjusted p-values.'''\n",
    "    pvalue_adjusted_columns = []\n",
    "\n",
    "    # Identify p-value columns\n",
    "    for column in log_data_adj.columns[2:]:\n",
    "        parts = column.split()\n",
    "        if parts[3] == 'hr(p)':  # Ensure there are enough parts\n",
    "            pvalue_adjusted_columns.append(column)\n",
    "    \n",
    "    # Filter rows based on the p-value threshold\n",
    "    if pvalue_adjusted_columns:\n",
    "        filtered_by_Pvalue_adj= log_data_adj.loc[\n",
    "            (log_data_adj[pvalue_adjusted_columns] < pvalue_adj).any(axis=1)\n",
    "        ]\n",
    "    else:\n",
    "        filtered_by_Pvalue_adj= pd.DataFrame()  # Return an empty DataFrame if no p-value columns are found\n",
    "    \n",
    "    return filtered_by_Pvalue_adj\n",
    "\n",
    "\n",
    "\n",
    "    "
   ]
  }
 ],
 "metadata": {
  "kernelspec": {
   "display_name": "my_env",
   "language": "python",
   "name": "python3"
  },
  "language_info": {
   "codemirror_mode": {
    "name": "ipython",
    "version": 3
   },
   "file_extension": ".py",
   "mimetype": "text/x-python",
   "name": "python",
   "nbconvert_exporter": "python",
   "pygments_lexer": "ipython3",
   "version": "3.8.18"
  }
 },
 "nbformat": 4,
 "nbformat_minor": 2
}
