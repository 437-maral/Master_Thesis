{
 "cells": [
  {
   "cell_type": "code",
   "execution_count": null,
   "metadata": {},
   "outputs": [],
   "source": [
    "import pandas as pd\n",
    "import numpy as np\n",
    "import random"
   ]
  },
  {
   "cell_type": "markdown",
   "metadata": {},
   "source": []
  },
  {
   "cell_type": "code",
   "execution_count": null,
   "metadata": {},
   "outputs": [],
   "source": [
    "#read data\n",
    "toxic=pd.read_csv('Final_toxicogenomic_dataset.csv')\n",
    "toxic=toxic.drop(columns='Unnamed: 0')\n",
    "path=pd.read_csv('Final_pathalogical_dataset.csv')\n",
    "path=path.drop(columns=['Unnamed: 0'])\n",
    "\n",
    "new_column_ally = ['ally'+ ' '+' '.join(column.split()[1:]) for column in toxic.columns if column.split()[0] == 'allylal']\n",
    "\n",
    "rename_dict = {column: 'ally' + ' ' + ' '.join(column.split()[1:]) for column in toxic.columns if column.split()[0] == 'allylal'}\n",
    "\n",
    "# Step 3: Rename the columns in the DataFrame\n",
    "toxic.rename(columns=rename_dict, inplace=True)\n"
   ]
  },
  {
   "cell_type": "code",
   "execution_count": null,
   "metadata": {},
   "outputs": [],
   "source": [
    "filtered_toxicology_transpose=toxic.T\n",
    "filtered_toxicology_transpose.columns = filtered_toxicology_transpose.iloc[1]\n",
    "\n",
    "#we are wprking with unique genes \n",
    "filtered_toxicology_transpose= filtered_toxicology_transpose.iloc[2:]\n"
   ]
  },
  {
   "cell_type": "code",
   "execution_count": null,
   "metadata": {},
   "outputs": [],
   "source": [
    "###create columns\n",
    "label_columns = ['Necrosis', 'Dilatation', 'Dilatation, cystic', 'Cast,hyaline',\n",
    "       'Regeneration', 'Cyst', 'Cellular infiltration, lymphocyte',\n",
    "       'Change, basophilic']\n",
    "\n",
    "\n",
    "for col in label_columns:\n",
    "   filtered_toxicology_transpose[col] = 0   "
   ]
  },
  {
   "cell_type": "code",
   "execution_count": null,
   "metadata": {},
   "outputs": [],
   "source": [
    "def Combined_data(toxicology, pathology):\n",
    "    for idx, row in toxicology.iterrows():\n",
    "        compound_name = idx.split()[0]\n",
    "        dose = idx.split()[1]\n",
    "        \n",
    "        # Filter rows in pathology DataFrame where COMPOUND_NAME contains compound_name\n",
    "        matching_rows = pathology[pathology['COMPOUND_NAME'].str.contains(compound_name, case=False, regex=False)]\n",
    "    \n",
    "        if not matching_rows.empty:\n",
    "            # Filter further to find rows where 'dose' matches exactly\n",
    "            dose_match = matching_rows[matching_rows['DOSE'] == dose]\n",
    "\n",
    "            if not dose_match.empty:\n",
    "                row_index = toxicology.index.get_loc(idx)  # Get the positional index of the current row\n",
    "                \n",
    "                # Assuming you want to update columns from index 11913 onwards\n",
    "                toxicology.iloc[row_index, 11913:] = dose_match.iloc[0, :8].values\n",
    "            else:\n",
    "                print(f\"No matching dose level for {compound_name} with dose {dose}\")\n",
    "        else:\n",
    "            print(f\"No matching compound name for {compound_name}\")\n",
    "    \n",
    "    return toxicology\n",
    "\n"
   ]
  },
  {
   "cell_type": "code",
   "execution_count": null,
   "metadata": {},
   "outputs": [],
   "source": [
    "Full_data=Combined_data(filtered_toxicology_transpose,path)"
   ]
  }
 ],
 "metadata": {
  "kernelspec": {
   "display_name": "my_env",
   "language": "python",
   "name": "python3"
  },
  "language_info": {
   "codemirror_mode": {
    "name": "ipython",
    "version": 3
   },
   "file_extension": ".py",
   "mimetype": "text/x-python",
   "name": "python",
   "nbconvert_exporter": "python",
   "pygments_lexer": "ipython3",
   "version": "3.8.18"
  }
 },
 "nbformat": 4,
 "nbformat_minor": 2
}
