{
 "cells": [
  {
   "cell_type": "code",
   "execution_count": 1,
   "metadata": {},
   "outputs": [],
   "source": [
    "import pandas as pd\n",
    "import numpy as np\n",
    "import random"
   ]
  },
  {
   "cell_type": "code",
   "execution_count": 5,
   "metadata": {},
   "outputs": [],
   "source": [
    "#read data\n",
    "pathology=pd.read_csv('open_tggates_pathology.csv' , encoding='unicode_escape')"
   ]
  },
  {
   "cell_type": "code",
   "execution_count": 7,
   "metadata": {},
   "outputs": [],
   "source": [
    "#chosen Orgen\n",
    "pathology=pathology[pathology['ORGAN']=='Kidney']\n",
    "#no chip data means that there is no gene expression for this sample\n",
    "pathology=pathology[pathology['BARCODE']!='No ChipData']\n",
    "##specefic compounds\n",
    "#it musgt be 41 drugs \n",
    "\n",
    "\n",
    "kidney_drugs = [\"acetaminophen\", \"acetazolamide\", \"allopurinol\", \"allyl alcohol\", \"bromobenzene\", \"bromoethylamine\", \"bucetin\", \"caffeine\", \"captopril\", \"carboplatin\", \"cephalothin\", \"ciprofloxacin\", \"cisplatin\", \"clofibrate\", \"cyclophosphamide\", \"cyclosporine A\", \"desmopressin acetate\", \"doxorubicin\", \"enalapril\", \"erythromycin ethylsuccinate\", \"ethinylestradiol\", \"ethionine\", \"gentamicin\", \"hexachlorobenzene\", \"imipramine\", \"indomethacin\", \"ketoconazole\", \n",
    "                \"lomustine\", \"methyltestosterone\", \"monocrotaline\", \"nitrofurantoin\", \"omeprazole\", \"phenacetin\", \"phenylanthranilic acid\", \"phenylbutazone\", \"puromycin aminonucleoside\", \"rifampicin\", \"thioacetamide\", \"triamterene\", \"valproic acid\"]\n",
    "pathology=pathology[pathology.COMPOUND_NAME.isin(kidney_drugs)]\n"
   ]
  },
  {
   "cell_type": "code",
   "execution_count": 8,
   "metadata": {},
   "outputs": [],
   "source": [
    "#special pathways are related to nephrotoxicity \n",
    "keywords = ['Dilatation, cystic', 'Necrosis','Dilatation', 'Regeneration',\n",
    "            'Cast,hyaline', 'Change, basophilic', 'Cellular infiltration, lymphocyte','Cyst']\n",
    "            \n",
    "pathology=pathology[pathology['FINDING_TYPE'].isin(keywords)]\n",
    "pathology=pathology[pathology['DOSE_LEVEL']!='Control']"
   ]
  },
  {
   "cell_type": "code",
   "execution_count": 5,
   "metadata": {},
   "outputs": [],
   "source": [
    "chosen_hours=['24 hr','6 hr','3 hr' ,'9 hr']\n",
    "pathology=pathology[pathology['SACRIFICE_PERIOD'].isin(chosen_hours)]"
   ]
  },
  {
   "cell_type": "code",
   "execution_count": 17,
   "metadata": {},
   "outputs": [],
   "source": [
    "unique_drugs = []\n",
    "#my goal was to  remove if we see any redandant sample \n",
    "# Iterate through each row in the DataFrame\n",
    "##if multiple samples accur\n",
    "for index, row in pathology.iterrows():\n",
    "    compound = row['COMPOUND_NAME']\n",
    "    dose=row['DOSE_LEVEL']\n",
    "    period=row['SACRIFICE_PERIOD']\n",
    "    path = row['FINDING_TYPE']\n",
    "\n",
    "    \n",
    "    \n",
    "    # Check if the combination is unique\n",
    "    if (compound,path,dose,period) not in unique_drugs:\n",
    "\n",
    "        unique_drugs.append((compound,path,dose,period))\n",
    "        \n",
    "new_filtered_pathology=pd.DataFrame(unique_drugs,columns=['COMPOUND_NAME','FINDING_TYPE','dose','period'])"
   ]
  },
  {
   "cell_type": "code",
   "execution_count": 20,
   "metadata": {},
   "outputs": [],
   "source": [
    "#I only take 2 hours , becuase the toxicogenomic data contain 24 hours compounds \n",
    "new_filtered_pathology=new_filtered_pathology[new_filtered_pathology['period']=='24 hr']\n",
    "new_filtered_pathology['dose'] = new_filtered_pathology['dose'].replace({\n",
    "    'Middle': 'M',\n",
    "    'High': 'H',\n",
    "    'Low': 'L'\n",
    "})\n"
   ]
  },
  {
   "cell_type": "code",
   "execution_count": 25,
   "metadata": {},
   "outputs": [],
   "source": [
    "new_filtered_pathology.index=new_filtered_pathology['COMPOUND_NAME']+' '+new_filtered_pathology['dose']"
   ]
  },
  {
   "cell_type": "code",
   "execution_count": 26,
   "metadata": {},
   "outputs": [],
   "source": [
    "label_columns = ['Necrosis', 'Dilatation', 'Dilatation, cystic', 'Cast,hyaline',\n",
    "                 'Regeneration', 'Cyst', 'Cellular infiltration, lymphocyte',\n",
    "                 'Change, basophilic']\n",
    "\n",
    "data_to_gather = {col: set() for col in label_columns}\n",
    "\n",
    "\n",
    "for index, row in new_filtered_pathology.iterrows():\n",
    "    finding_type = row['FINDING_TYPE']\n",
    "    compound_name = row['COMPOUND_NAME']\n",
    "    dose = row['dose']\n",
    "    \n",
    "    if finding_type in label_columns:\n",
    "        # Add a tuple of (compound_name, dose) to the appropriate set\n",
    "        data_to_gather[finding_type].add((compound_name, dose))\n",
    "\n",
    "Final_data = pd.DataFrame(0, index=new_filtered_pathology.index, columns=label_columns)\n",
    "\n",
    "# Iterate over the dataframe again to set the multi-label classification columns\n",
    "for index, row in new_filtered_pathology.iterrows():\n",
    "    compound_name = row['COMPOUND_NAME']\n",
    "    dose = row['dose']\n",
    "    \n",
    "    for finding_type in label_columns:\n",
    "        if (compound_name, dose) in data_to_gather[finding_type]:\n",
    "            Final_data.at[index, finding_type] = 1\n"
   ]
  },
  {
   "cell_type": "code",
   "execution_count": 27,
   "metadata": {},
   "outputs": [],
   "source": [
    "Final_data['COMPOUND_NAME'] = [\n",
    "    \" \".join(compound.split()[0:2]) if len(compound.split()) > 2 else compound.split()[0]\n",
    "    for compound in Final_data.index\n",
    "]\n",
    "\n",
    "Final_data['DOSE'] = [compound.split()[2] if len(compound.split()) > 2 else compound.split()[1] for compound in Final_data.index]\n",
    "Final_data=Final_data.drop_duplicates()\n"
   ]
  }
 ],
 "metadata": {
  "kernelspec": {
   "display_name": "my_env",
   "language": "python",
   "name": "python3"
  },
  "language_info": {
   "codemirror_mode": {
    "name": "ipython",
    "version": 3
   },
   "file_extension": ".py",
   "mimetype": "text/x-python",
   "name": "python",
   "nbconvert_exporter": "python",
   "pygments_lexer": "ipython3",
   "version": "3.8.18"
  }
 },
 "nbformat": 4,
 "nbformat_minor": 2
}
